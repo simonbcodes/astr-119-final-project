{
 "cells": [
  {
   "cell_type": "markdown",
   "metadata": {},
   "source": [
    "# Astronomy 119 Final Project (#3): SEP Tutorial\n",
    "## Astronomical Source Detection\n",
    "### Fall 2018, 11:40am Section, Brant Robertson\n",
    "\n",
    "### Authored by:\n",
    "Laura Daniels (ladaniel@ucsc.edu)\n",
    "\n",
    "Jennifer Bravo (jebravo@ucsc.edu)\n",
    "\n",
    "Natalie Saechao (namsaech@ucsc.edu)\n",
    "\n",
    "Simon Bukin (sbukin@ucsc.edu)\n"
   ]
  },
  {
   "cell_type": "markdown",
   "metadata": {},
   "source": [
    "# Importing modules\n",
    "In the following cells, we import the necessary modules for astronomical source detection."
   ]
  },
  {
   "cell_type": "code",
   "execution_count": null,
   "metadata": {},
   "outputs": [],
   "source": [
    "# Simon Bukin\n",
    "import numpy as np\n",
    "import sep\n",
    "from astropy.io import fits\n",
    "import matplotlib.pyplot as plt\n",
    "from matplotlib import rcParams\n",
    "\n",
    "%matplotlib inline\n",
    "\n",
    "rcParams['figure.figsize'] = [10., 8.]"
   ]
  },
  {
   "cell_type": "markdown",
   "metadata": {},
   "source": [
    "# Reading and displaying FITS Image\n",
    "In this section, we read in the example FITS image and display it using matplotlib."
   ]
  },
  {
   "cell_type": "code",
   "execution_count": null,
   "metadata": {},
   "outputs": [],
   "source": [
    "# Simon Bukin\n",
    "# open the data from the FITS image (this is a numpy array)\n",
    "data = fits.open('image.fits')[0].data\n",
    "\n",
    "# calculating mean and standard deviation\n",
    "m, s = np.mean(data), np.std(data)\n",
    "# displaying the image itself\n",
    "plt.imshow(data, interpolation='nearest', cmap='gray', vmin=m-s, vmax=m+s, origin='lower')\n",
    "# make sure to plot colorbar\n",
    "plt.colorbar()\n",
    "# Natalie Saechao\n",
    "fig = plt.gcf()"
   ]
  },
  {
   "cell_type": "code",
   "execution_count": null,
   "metadata": {},
   "outputs": [],
   "source": [
    "# Natalie Saechao\n",
    "fig.savefig('image1_original.png')"
   ]
  },
  {
   "cell_type": "markdown",
   "metadata": {},
   "source": [
    "# Background Subtraction\n",
    "These cells deal with background subtraction of our initial image."
   ]
  },
  {
   "cell_type": "code",
   "execution_count": null,
   "metadata": {},
   "outputs": [],
   "source": [
    "# Simon Bukin\n",
    "# measure the background (varying) of the image\n",
    "bkg = sep.Background(data)\n",
    "print(bkg.globalback)\n",
    "print(bkg.globalrms)"
   ]
  },
  {
   "cell_type": "code",
   "execution_count": null,
   "metadata": {},
   "outputs": [],
   "source": [
    "# Simon Bukin\n",
    "bkg_image = bkg.back()\n",
    "# print the background subtracted image\n",
    "plt.imshow(bkg_image, interpolation='nearest', cmap='gray', origin='lower')\n",
    "# Natalie Saechao\n",
    "fig = plt.gcf()"
   ]
  },
  {
   "cell_type": "code",
   "execution_count": null,
   "metadata": {},
   "outputs": [],
   "source": [
    "# Natalie Saechao\n",
    "fig.savefig('image2_background.png')"
   ]
  },
  {
   "cell_type": "code",
   "execution_count": null,
   "metadata": {},
   "outputs": [],
   "source": [
    "# Simon Bukin\n",
    "# calculate background noise as a 2d array\n",
    "bkg_rms = bkg.rms()\n",
    "# display the background noise\n",
    "plt.imshow(bkg_rms, interpolation='nearest', cmap='gray', origin='lower')\n",
    "# don't forget the colorbar\n",
    "plt.colorbar()\n",
    "# Natalie Saechao\n",
    "fig = plt.gcf()"
   ]
  },
  {
   "cell_type": "code",
   "execution_count": null,
   "metadata": {},
   "outputs": [],
   "source": [
    "# Natalie Saechao\n",
    "fig.savefig('image3_background_noise.png')"
   ]
  },
  {
   "cell_type": "code",
   "execution_count": null,
   "metadata": {},
   "outputs": [],
   "source": [
    "# Simon Bukin\n",
    "# data_sub is the initial data minus the background noise\n",
    "data_sub = data - bkg"
   ]
  },
  {
   "cell_type": "markdown",
   "metadata": {},
   "source": [
    "# Detecting Objects\n",
    "Here, we detect the objects in our initial tests image using data_sub alongside SEP's extract function."
   ]
  },
  {
   "cell_type": "code",
   "execution_count": null,
   "metadata": {},
   "outputs": [],
   "source": [
    "# Simon Bukin\n",
    "# use the SEP extract function to get all the detected opjects\n",
    "objects = sep.extract(data_sub, 1.5, err=bkg.globalrms)\n",
    "# print out how many opjects were found\n",
    "len(objects)"
   ]
  },
  {
   "cell_type": "code",
   "execution_count": null,
   "metadata": {},
   "outputs": [],
   "source": [
    "# Simon Bukin\n",
    "from matplotlib.patches import Ellipse\n",
    "\n",
    "fig, ax = plt.subplots()\n",
    "# caculate mean and standard deviation of subtracted data\n",
    "m, s = np.mean(data_sub), np.std(data_sub)\n",
    "# display the subtracted data\n",
    "im = ax.imshow(data_sub, interpolation='nearest', cmap='gray',\n",
    "               vmin=m-s, vmax=m+s, origin='lower')\n",
    "\n",
    "# display each ellipse\n",
    "for i in range(len(objects)):\n",
    "    # new Ellipse crated for each object detected\n",
    "    e = Ellipse(xy=(objects['x'][i], objects['y'][i]),\n",
    "                width=6*objects['a'][i],\n",
    "                height=6*objects['b'][i],\n",
    "                angle=objects['theta'][i] * 180 / np.pi)\n",
    "    # no fill color\n",
    "    e.set_facecolor('none')\n",
    "    # red edge color\n",
    "    e.set_edgecolor('red')\n",
    "    ax.add_artist(e)\n",
    "\n",
    "# Natalie Saechao\n",
    "fig = plt.gcf()"
   ]
  },
  {
   "cell_type": "code",
   "execution_count": null,
   "metadata": {},
   "outputs": [],
   "source": [
    "# Natalie Saechao\n",
    "fig.savefig('image4_ellipse')"
   ]
  },
  {
   "cell_type": "code",
   "execution_count": null,
   "metadata": {},
   "outputs": [],
   "source": [
    "# Simon Bukin\n",
    "#all fields available for each object\n",
    "objects.dtype.names"
   ]
  },
  {
   "cell_type": "markdown",
   "metadata": {},
   "source": [
    "# Calculating Flux per Object\n",
    "These cells deal with calculating the flux and fluxerr for every option."
   ]
  },
  {
   "cell_type": "code",
   "execution_count": null,
   "metadata": {},
   "outputs": [],
   "source": [
    "# Simon Bukin\n",
    "# calculating the flux, fluxerr, and flag for each object\n",
    "flux, fluxerr, flag = sep.sum_circle(data_sub, objects['x'], objects['y'],\n",
    "                                     3.0, err=bkg.globalrms, gain=1.0)"
   ]
  },
  {
   "cell_type": "code",
   "execution_count": null,
   "metadata": {},
   "outputs": [],
   "source": [
    "# Simon Bukin\n",
    "# first 10 results\n",
    "for i in range(10):\n",
    "    print('object: {:d}: flux= {:f} +/- {:f}'.format(i, flux[i], fluxerr[i]))"
   ]
  }
 ],
 "metadata": {
  "kernelspec": {
   "display_name": "Python 3",
   "language": "python",
   "name": "python3"
  },
  "language_info": {
   "codemirror_mode": {
    "name": "ipython",
    "version": 3
   },
   "file_extension": ".py",
   "mimetype": "text/x-python",
   "name": "python",
   "nbconvert_exporter": "python",
   "pygments_lexer": "ipython3",
   "version": "3.6.0"
  }
 },
 "nbformat": 4,
 "nbformat_minor": 2
}
